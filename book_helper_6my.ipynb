{
 "cells": [
  {
   "cell_type": "code",
   "execution_count": 168,
   "metadata": {},
   "outputs": [],
   "source": [
    "from tkinter import *\n",
    "from tkinter import scrolledtext"
   ]
  },
  {
   "cell_type": "code",
   "execution_count": 169,
   "metadata": {},
   "outputs": [],
   "source": [
    "from os import listdir, path, getcwd\n",
    "from collections import defaultdict"
   ]
  },
  {
   "cell_type": "code",
   "execution_count": 170,
   "metadata": {},
   "outputs": [],
   "source": [
    "from datetime import datetime\n",
    "import time"
   ]
  },
  {
   "cell_type": "code",
   "execution_count": 171,
   "metadata": {},
   "outputs": [],
   "source": [
    "from tqdm.notebook import tqdm"
   ]
  },
  {
   "cell_type": "code",
   "execution_count": 258,
   "metadata": {},
   "outputs": [
    {
     "data": {
      "application/vnd.jupyter.widget-view+json": {
       "model_id": "bce9f25ac5134ec5a485a51b25f833be",
       "version_major": 2,
       "version_minor": 0
      },
      "text/plain": [
       "HBox(children=(FloatProgress(value=0.0, max=677.0), HTML(value='')))"
      ]
     },
     "metadata": {},
     "output_type": "display_data"
    },
    {
     "name": "stdout",
     "output_type": "stream",
     "text": [
      "\n"
     ]
    }
   ],
   "source": [
    "# запуск\n",
    "\n",
    "MyApp().window.mainloop()"
   ]
  },
  {
   "cell_type": "code",
   "execution_count": 242,
   "metadata": {},
   "outputs": [],
   "source": [
    "class MyApp:\n",
    "    \n",
    "    def __init__(self):\n",
    "        \n",
    "        self.book_content, self.book_content_lower = Reader().book_content\n",
    "                \n",
    "        self.window = Tk()\n",
    "        self.window.title(\"Поиск книг\")\n",
    "        \n",
    "        self.label = Label(self.window, \n",
    "            text=\"Введите ключевые слова (можно без окончаний) или словосочетания через запятую:\", \n",
    "                           width = 100, height = 2, font = 15)\n",
    "        self.label_request_title = Label(self.window, text=\"\", fg=\"blue\", \n",
    "                           width = 80, height = 1, font = 15)\n",
    "        self.label_request = Label(self.window, text=\"\", \n",
    "                           width = 80, height = 6, font = 15)\n",
    "        self.label_result_title = Label(self.window, text=\"\", fg=\"blue\",\n",
    "                           width = 80, height = 2, font = 15)        \n",
    "        self.text_area = scrolledtext.ScrolledText(self.window, \n",
    "                           width = 80, height = 30, font = 10)\n",
    "        self.entry = Entry(self.window,\n",
    "                           width = 60, font = 15)\n",
    "        self.button = Button(\n",
    "            self.window, text=\"Поиск\", command = self.print_request)\n",
    "        \n",
    "        \n",
    "        self.label.grid(\n",
    "            row=0, column = 0, columnspan = 2)\n",
    "        self.entry.grid(\n",
    "            row=1, column = 0)\n",
    "        self.button.grid(\n",
    "            row=1, column = 1)        \n",
    "        self.label_request_title.grid(\n",
    "            row=2, column = 0)\n",
    "        self.label_request.grid(\n",
    "            row=3, column = 0)        \n",
    "        self.label_result_title.grid(\n",
    "            row=4, column = 0)        \n",
    "        self.text_area.grid(\n",
    "            row=5, column = 0, pady = 20, padx = 20)        \n",
    "      \n",
    "    \n",
    "    def print_request(self):\n",
    "        \n",
    "        key_word_string = self.entry.get()\n",
    "        \n",
    "        self.entry.delete(0, 'end')\n",
    "        self.text_area.delete(0.0, 'end')\n",
    "        \n",
    "        self.label_request_title['text'] = f\"Поиск по запросу:\"\n",
    "        \n",
    "        key_word_list = key_word_string.lower().split(\", \")\n",
    "        key_word_print = '\\n'.join(key_word_list)\n",
    "        self.label_request['text'] =  f\"{key_word_print}\" \n",
    "        \n",
    "        book_count, text_word_context = (\n",
    "            Librarian(key_word_list, self.book_content, self.book_content_lower).text_context())        \n",
    "        \n",
    "        self.label_result_title['text'] = f\"Результат поиска: {book_count}\"        \n",
    "        self.text_area.insert(INSERT, f\"{text_word_context}\")"
   ]
  },
  {
   "cell_type": "code",
   "execution_count": 241,
   "metadata": {},
   "outputs": [],
   "source": [
    "class Reader:\n",
    "    \n",
    "    def __init__(self):\n",
    "        abs_path = path.join(getcwd(), \"books\")\n",
    "        self.book_list = listdir(abs_path)\n",
    "        self.book_content = self.file_content(self.book_list)\n",
    "        \n",
    "        \n",
    "    def file_content(self, book_list):\n",
    "        content_dict = {}\n",
    "        content_dict_lower = {}\n",
    "        for file_name in tqdm(self.book_list):            \n",
    "            content_dict[file_name], content_dict_lower[file_name] = self._file_read(file_name)\n",
    "        return content_dict, content_dict_lower           \n",
    "    \n",
    "       \n",
    "    def _file_read(self, file_name):\n",
    "        abs_path = path.join(getcwd(), f\"books\\\\{file_name}\")\n",
    "        try:\n",
    "            with open(abs_path, \"r\") as file:\n",
    "                content = file.read().replace(\"\\n\", \" \")\n",
    "        except UnicodeDecodeError:\n",
    "            with open(abs_path, \"r\", encoding=\"UTF-8\") as file:\n",
    "                content = file.read().replace(\"\\n\", \" \")\n",
    "        content_lower = content.lower()\n",
    "        return content, content_lower"
   ]
  },
  {
   "cell_type": "code",
   "execution_count": 257,
   "metadata": {},
   "outputs": [],
   "source": [
    "class Librarian:\n",
    "    \n",
    "    def __init__(self, key_word_list, book_content, book_content_lower):\n",
    "        self.key_word_list = key_word_list\n",
    "        self.book_content = book_content\n",
    "        self.book_content_lower = book_content_lower\n",
    "    \n",
    "    \n",
    "    def _file_search(self):        \n",
    "        book_dict_find = {}\n",
    "        for book, content in self.book_content_lower.items():\n",
    "            key_word_list_find = []\n",
    "            index_list = []\n",
    "            flag = True\n",
    "            for word in self.key_word_list:\n",
    "                if flag == True:\n",
    "                    i = content.find(word)\n",
    "                    if i != -1:\n",
    "                        key_word_list_find.append(word)\n",
    "                        index_list.append(i)\n",
    "                    else:\n",
    "                        flag = False\n",
    "            if self.key_word_list == key_word_list_find:\n",
    "                book_dict_find[book] = index_list\n",
    "        return book_dict_find\n",
    "    \n",
    "    def text_context(self):\n",
    "        book_dict_find = self._file_search()\n",
    "        \n",
    "        book_count = len(book_dict_find)\n",
    "        \n",
    "        text_word_context = \"\"\n",
    "        dict_out = defaultdict(str) \n",
    "        for book, index_list in book_dict_find.items():\n",
    "            len_book_content = len(self.book_content[book])\n",
    "            len_word_context = 50\n",
    "            for i in index_list:\n",
    "                if len_book_content < (2 * len_word_context + 1):\n",
    "                    dict_out[book] += (\n",
    "                        f\"... {self.book_content[book]} ... -+++- \")\n",
    "                elif len_book_content - i < (2 * len_word_context):\n",
    "                    dict_out[book] += (\n",
    "                        f\"... {self.book_content[book][i - len_word_context:]} ... -+++- \")                \n",
    "                elif i > len_word_context:\n",
    "                    dict_out[book] += (\n",
    "                        f\"... {self.book_content[book][(i - len_word_context):(i + len_word_context)]} ... -+++- \")\n",
    "                else:\n",
    "                    dict_out[book] += (\n",
    "                        f\"... {self.book_content[book][:(i + len_word_context)]} ... -+++- \")\n",
    "            text_word_context += f\"{book}\\n{dict_out[book]}\\n\\n\" \n",
    "        return book_count, text_word_context"
   ]
  },
  {
   "cell_type": "code",
   "execution_count": 260,
   "metadata": {},
   "outputs": [
    {
     "data": {
      "application/vnd.jupyter.widget-view+json": {
       "model_id": "a670cf0f190e424993270528398f1680",
       "version_major": 2,
       "version_minor": 0
      },
      "text/plain": [
       "HBox(children=(FloatProgress(value=0.0, max=677.0), HTML(value='')))"
      ]
     },
     "metadata": {},
     "output_type": "display_data"
    },
    {
     "name": "stdout",
     "output_type": "stream",
     "text": [
      "\n",
      "['что']\n",
      "666\n",
      "0:00:00.005987\n",
      "\n",
      "['чехов', 'агафья']\n",
      "4\n",
      "0:00:00.069810\n",
      "\n",
      "['что', 'кто', 'как', 'и', 'человек', 'барышне', 'барыне', 'решительно', 'надя']\n",
      "5\n",
      "0:00:00.116688\n",
      "\n",
      "['и чем кончился роман шамохина - мне неизвестно.']\n",
      "(1, 'Chekhov__Ariadna.txt\\n...  другой день после этой встречи я выехал из Ялты, и чем кончился роман Шамохина - мне неизвестно. ... -+++- \\n\\n')\n",
      "0:00:00.029921\n",
      "\n",
      "['что кухарке действительно лучше жить', 'нежели барыне или барышне.']\n",
      "1\n",
      "0:00:00.042394\n",
      "\n",
      "['book']\n",
      "(1, 'V__________S______________B.txt\\n... Very short book. ... -+++- \\n\\n')\n",
      "0:00:00.036902\n",
      "\n"
     ]
    }
   ],
   "source": [
    "# Librarian ---  тесты на время для различных запросов (запрос -- список в нижнем регистре)\n",
    "\n",
    "file_content, file_content_lower = Reader().book_content\n",
    "\n",
    "\n",
    "s1 = [\"что\"]\n",
    "s2 = [\"чехов\", \"агафья\"]\n",
    "s6 = [\"что\", \"кто\", \"как\", \"и\", \"человек\", \"барышне\", \"барыне\", \"решительно\", \"надя\"]\n",
    "s7 = [\"и чем кончился роман шамохина - мне неизвестно.\"]\n",
    "s8 = [\"что кухарке действительно лучше жить\", \"нежели барыне или барышне.\"]\n",
    "s9 = [\"book\"]\n",
    "\n",
    "print(s1)\n",
    "start_time = datetime.now()\n",
    "print(Librarian(s1, file_content, file_content_lower).text_context()[0])\n",
    "print(datetime.now() - start_time)\n",
    "print()\n",
    "\n",
    "print(s2)\n",
    "start_time = datetime.now()\n",
    "print(Librarian(s2, file_content, file_content_lower).text_context()[0])\n",
    "print(datetime.now() - start_time)\n",
    "print()\n",
    "\n",
    "print(s6)\n",
    "start_time = datetime.now()\n",
    "print(Librarian(s6, file_content, file_content_lower).text_context()[0])\n",
    "print(datetime.now() - start_time)\n",
    "print()\n",
    "\n",
    "print(s7)\n",
    "start_time = datetime.now()\n",
    "print(Librarian(s7, file_content, file_content_lower).text_context())\n",
    "print(datetime.now() - start_time)\n",
    "print()\n",
    "\n",
    "print(s8)\n",
    "start_time = datetime.now()\n",
    "print(Librarian(s8, file_content, file_content_lower).text_context()[0])\n",
    "print(datetime.now() - start_time)\n",
    "print()\n",
    "\n",
    "print(s9)\n",
    "start_time = datetime.now()\n",
    "print(Librarian(s9, file_content, file_content_lower).text_context())\n",
    "print(datetime.now() - start_time)\n",
    "print()"
   ]
  }
 ],
 "metadata": {
  "kernelspec": {
   "display_name": "Python 3",
   "language": "python",
   "name": "python3"
  },
  "language_info": {
   "codemirror_mode": {
    "name": "ipython",
    "version": 3
   },
   "file_extension": ".py",
   "mimetype": "text/x-python",
   "name": "python",
   "nbconvert_exporter": "python",
   "pygments_lexer": "ipython3",
   "version": "3.8.3"
  }
 },
 "nbformat": 4,
 "nbformat_minor": 4
}
