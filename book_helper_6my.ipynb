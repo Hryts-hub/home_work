{
 "cells": [
  {
   "cell_type": "code",
   "execution_count": 145,
   "metadata": {},
   "outputs": [],
   "source": [
    "from tkinter import *\n",
    "from tkinter import scrolledtext"
   ]
  },
  {
   "cell_type": "code",
   "execution_count": 146,
   "metadata": {},
   "outputs": [],
   "source": [
    "from os import listdir, path, getcwd, remove\n",
    "from collections import defaultdict"
   ]
  },
  {
   "cell_type": "code",
   "execution_count": 147,
   "metadata": {},
   "outputs": [],
   "source": [
    "from datetime import datetime\n",
    "import time"
   ]
  },
  {
   "cell_type": "code",
   "execution_count": 148,
   "metadata": {},
   "outputs": [],
   "source": [
    "from tqdm.notebook import tqdm"
   ]
  },
  {
   "cell_type": "code",
   "execution_count": 155,
   "metadata": {},
   "outputs": [
    {
     "data": {
      "application/vnd.jupyter.widget-view+json": {
       "model_id": "5bb19ea88deb4db5b3c5a3756f124823",
       "version_major": 2,
       "version_minor": 0
      },
      "text/plain": [
       "HBox(children=(FloatProgress(value=0.0, max=676.0), HTML(value='')))"
      ]
     },
     "metadata": {},
     "output_type": "display_data"
    },
    {
     "name": "stdout",
     "output_type": "stream",
     "text": [
      "\n"
     ]
    }
   ],
   "source": [
    "# запуск\n",
    "\n",
    "MyApp().window.mainloop()"
   ]
  },
  {
   "cell_type": "code",
   "execution_count": 152,
   "metadata": {},
   "outputs": [],
   "source": [
    "class MyApp:\n",
    "    \n",
    "    def __init__(self):\n",
    "        \n",
    "        self.book_content, self.book_content_lower = Reader().book_content \n",
    "                \n",
    "        self.window = Tk()\n",
    "        self.window.title(\"Поиск книг\")\n",
    "        \n",
    "        self.label = Label(self.window, \n",
    "            text=\"Введите ключевые слова (можно без окончаний) или словосочетания через запятую:\", \n",
    "                           width = 100, height = 2, font = 15)\n",
    "        self.label_request_title = Label(self.window, text=\"\", fg=\"blue\", \n",
    "                           width = 80, height = 1, font = 15)\n",
    "        self.label_request = Label(self.window, text=\"\", \n",
    "                           width = 80, height = 6, font = 15)\n",
    "        self.label_result_title = Label(self.window, text=\"\", fg=\"blue\",\n",
    "                           width = 80, height = 2, font = 15)        \n",
    "        self.text_area = scrolledtext.ScrolledText(self.window, \n",
    "                           width = 80, height = 30, font = 10)\n",
    "        self.entry = Entry(self.window,\n",
    "                           width = 60, font = 15)\n",
    "        self.button = Button(\n",
    "            self.window, text=\"Поиск\", command = self.print_request)\n",
    "        \n",
    "        \n",
    "        self.label.grid(\n",
    "            row=0, column = 0, columnspan = 2)\n",
    "        self.entry.grid(\n",
    "            row=1, column = 0)\n",
    "        self.button.grid(\n",
    "            row=1, column = 1)        \n",
    "        self.label_request_title.grid(\n",
    "            row=2, column = 0)\n",
    "        self.label_request.grid(\n",
    "            row=3, column = 0)        \n",
    "        self.label_result_title.grid(\n",
    "            row=4, column = 0)        \n",
    "        self.text_area.grid(\n",
    "            row=5, column = 0, pady = 20, padx = 20)        \n",
    "      \n",
    "    \n",
    "    def print_request(self):\n",
    "        \n",
    "        key_word_string = self.entry.get()\n",
    "        \n",
    "        self.entry.delete(0, 'end')\n",
    "        self.text_area.delete(0.0, 'end')\n",
    "        \n",
    "        self.label_request_title['text'] = f\"Поиск по запросу:\"\n",
    "        \n",
    "        key_word_list = key_word_string.lower().split(\", \")\n",
    "        key_word_print = '\\n'.join(key_word_list)\n",
    "        self.label_request['text'] =  f\"{key_word_print}\" \n",
    "        \n",
    "        # обработка текста вывода:    \n",
    "        book_dict_find = Librarian(key_word_list, self.book_content_lower).file_search()\n",
    "        book_count = len(book_dict_find)\n",
    "        \n",
    "        text_context = \"\"\n",
    "        dict_out = defaultdict(str) \n",
    "        for book, index_list in book_dict_find.items():\n",
    "            len_conten = len(self.book_content[book])\n",
    "            for i in index_list:\n",
    "                if len_conten < 101:\n",
    "                    dict_out[book] += f\"... {self.book_content[book]} ... -+++- \"\n",
    "                elif len_conten - i < 101:\n",
    "                    dict_out[book] += f\"... {self.book_content[book][i:]} ... -+++- \"                \n",
    "                elif i > 50:\n",
    "                    dict_out[book] += f\"... {self.book_content[book][(i - 50):(i + 50)]} ... -+++- \"\n",
    "                else:\n",
    "                    dict_out[book] += f\"... {self.book_content[book][:(i + 100)]} ... -+++- \"\n",
    "            text_context += f\"{book}\\n{dict_out[book]}\\n\\n\"\n",
    "        \n",
    "        # вывод результа:\n",
    "        self.label_result_title['text'] = f\"Результат поиска: {book_count}\"        \n",
    "        self.text_area.insert(INSERT, f\"{text_context}\")"
   ]
  },
  {
   "cell_type": "code",
   "execution_count": 150,
   "metadata": {},
   "outputs": [],
   "source": [
    "class Reader:\n",
    "    \n",
    "    def __init__(self):\n",
    "        abs_path = path.join(getcwd(), \"books\")\n",
    "        self.book_list = listdir(abs_path)\n",
    "        self.book_content = self.file_content(self.book_list)\n",
    "        \n",
    "        \n",
    "    def file_content(self, book_list):\n",
    "        content_dict = {}\n",
    "        content_dict_lower = {}\n",
    "        for file_name in tqdm(self.book_list):            \n",
    "            content_dict[file_name], content_dict_lower[file_name] = self._file_read(file_name)\n",
    "        return content_dict, content_dict_lower           \n",
    "    \n",
    "       \n",
    "    def _file_read(self, file_name):\n",
    "        abs_path = path.join(getcwd(), f\"books\\\\{file_name}\")\n",
    "        try:\n",
    "            with open(abs_path, \"r\") as file:\n",
    "                content = file.read().replace(\"\\n\", \" \")\n",
    "        except UnicodeDecodeError:\n",
    "            with open(abs_path, \"r\", encoding=\"UTF-8\") as file:\n",
    "                content = file.read().replace(\"\\n\", \" \")\n",
    "        content_lower = content.lower()\n",
    "        return content, content_lower"
   ]
  },
  {
   "cell_type": "code",
   "execution_count": 151,
   "metadata": {},
   "outputs": [],
   "source": [
    "class Librarian:\n",
    "    \n",
    "    def __init__(self, key_word_list, book_content):\n",
    "        self.key_word_list = key_word_list\n",
    "        self.book_content = book_content\n",
    "    \n",
    "    \n",
    "    def file_search(self):        \n",
    "        book_dict_find = {}\n",
    "        for book, content in self.book_content.items():\n",
    "            key_word_list_find = []\n",
    "            index_list = []\n",
    "            flag = True\n",
    "            for word in self.key_word_list:\n",
    "                if flag == True:\n",
    "                    i = content.find(word)\n",
    "                    if i != -1:\n",
    "                        key_word_list_find.append(word)\n",
    "                        index_list.append(i)\n",
    "                    else:\n",
    "                        flag = False\n",
    "            if self.key_word_list == key_word_list_find:\n",
    "                book_dict_find[book] = index_list\n",
    "        return book_dict_find"
   ]
  },
  {
   "cell_type": "code",
   "execution_count": 157,
   "metadata": {},
   "outputs": [
    {
     "data": {
      "application/vnd.jupyter.widget-view+json": {
       "model_id": "45673a6efdc84d2b919e29bbdb314ccb",
       "version_major": 2,
       "version_minor": 0
      },
      "text/plain": [
       "HBox(children=(FloatProgress(value=0.0, max=676.0), HTML(value='')))"
      ]
     },
     "metadata": {},
     "output_type": "display_data"
    },
    {
     "name": "stdout",
     "output_type": "stream",
     "text": [
      "\n",
      "['что']\n",
      "0:00:00.002012\n",
      "['чехов, АГАФЬЯ']\n",
      "0:00:00.054783\n",
      "['что', 'кто', 'как', 'и', 'человек', 'барышне', 'барыне', 'решительно', 'Надя']\n",
      "0:00:00.099731\n",
      "['и чем кончился роман Шамохина - мне неизвестно.']\n",
      "0:00:00.104702\n",
      "['что кухарке действительно лучше жить, нежели барыне или барышне.']\n",
      "0:00:00.101728\n"
     ]
    }
   ],
   "source": [
    "# Librarian ---  тесты\n",
    "\n",
    "#book_list = listdir(path=\"./books\")\n",
    "file_content_list = MyApp().book_content_lower\n",
    "\n",
    "s1 = [\"что\"]\n",
    "s2 = [\"чехов, АГАФЬЯ\"]\n",
    "s6 = [\"что\",\"кто\",\"как\",\"и\", \"человек\", \"барышне\",\"барыне\", \"решительно\", \"Надя\"]\n",
    "s7 = [\"и чем кончился роман Шамохина - мне неизвестно.\"]\n",
    "s8 = [\"что кухарке действительно лучше жить, нежели барыне или барышне.\"]\n",
    "print(s1)\n",
    "start_time = datetime.now()\n",
    "Librarian(s1, file_content_list).file_search()\n",
    "print(datetime.now() - start_time)\n",
    "\n",
    "print(s2)\n",
    "start_time = datetime.now()\n",
    "Librarian(s2, file_content_list).file_search()\n",
    "print(datetime.now() - start_time)\n",
    "\n",
    "print(s6)\n",
    "start_time = datetime.now()\n",
    "Librarian(s6, file_content_list).file_search()\n",
    "print(datetime.now() - start_time)\n",
    "\n",
    "print(s7)\n",
    "start_time = datetime.now()\n",
    "Librarian(s6, file_content_list).file_search()\n",
    "print(datetime.now() - start_time)\n",
    "\n",
    "print(s8)\n",
    "start_time = datetime.now()\n",
    "Librarian(s6, file_content_list).file_search()\n",
    "print(datetime.now() - start_time)"
   ]
  }
 ],
 "metadata": {
  "kernelspec": {
   "display_name": "Python 3",
   "language": "python",
   "name": "python3"
  },
  "language_info": {
   "codemirror_mode": {
    "name": "ipython",
    "version": 3
   },
   "file_extension": ".py",
   "mimetype": "text/x-python",
   "name": "python",
   "nbconvert_exporter": "python",
   "pygments_lexer": "ipython3",
   "version": "3.8.3"
  }
 },
 "nbformat": 4,
 "nbformat_minor": 4
}
