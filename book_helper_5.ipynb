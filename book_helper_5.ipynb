{
 "cells": [
  {
   "cell_type": "code",
   "execution_count": 15,
   "metadata": {},
   "outputs": [],
   "source": [
    "from os import listdir, path, getcwd, remove\n",
    "from collections import defaultdict\n",
    "from tkinter import *\n",
    "from tqdm.notebook import tqdm\n",
    "from time import time\n",
    "from pickle import load, dump\n",
    "from datetime import datetime"
   ]
  },
  {
   "cell_type": "code",
   "execution_count": 16,
   "metadata": {},
   "outputs": [],
   "source": [
    "def metrics(fun):\n",
    "    def wraper(*args, **kwargs):\n",
    "        start_time = time()\n",
    "        result = fun(*args, **kwargs)\n",
    "        print(time() - start_time)\n",
    "        return result\n",
    "    return wraper"
   ]
  },
  {
   "cell_type": "code",
   "execution_count": 17,
   "metadata": {},
   "outputs": [],
   "source": [
    "class Reader:\n",
    "    def __init__(self, work_dir):\n",
    "        self.result = defaultdict(dict) \n",
    "        arr_book_fact = set(listdir(work_dir))\n",
    "        if path.exists(\"dump_result\") and path.exists(\"arr_book\"):\n",
    "            self.result = load(open(\"dump_result\", \"rb\"))\n",
    "            arr_book_base = set(load(open(\"arr_book\", \"rb\")))\n",
    "            new_book = arr_book_fact - arr_book_base\n",
    "            self.get_content(work_dir, new_book)\n",
    "            \n",
    "            new_book = arr_book_base - arr_book_fact\n",
    "            if new_book:\n",
    "                for book in new_book:\n",
    "                    for word in self.result: \n",
    "                        self.result[word].discard(book)\n",
    "                abs_path = path.join(getcwd(), \"dump_result\")\n",
    "                remove(abs_path)\n",
    "                abs_path = path.join(getcwd(), \"arr_book\")\n",
    "                remove(abs_path)   \n",
    "        else:\n",
    "            self.get_content(work_dir, arr_book_fact)\n",
    "        dump(self.result, open(\"dump_result\", \"wb\"))\n",
    "        dump(arr_book_fact, open(\"arr_book\", \"wb\"))\n",
    "         \n",
    "            \n",
    "    def get_content(self, work_dir, arr_book):\n",
    "        for book in tqdm(arr_book):\n",
    "            abs_path = path.join(getcwd(), work_dir, book)\n",
    "            with open(abs_path, encoding=\"cp1251\") as file:\n",
    "                try:\n",
    "                    content = file.read()\n",
    "                except UnicodeDecodeError:\n",
    "                    with open(abs_path, encoding=\"utf-8\") as file:\n",
    "                        content = file.read()\n",
    "            content = content.replace(\",\", \"\")\n",
    "            content = content.replace(\".\", \"\")\n",
    "            content = content.replace(\":\", \"\")\n",
    "            content = content.lower().split()\n",
    "            content_set = set(content)          \n",
    "            for word in content_set:             \n",
    "                i = content.index(word)\n",
    "                if i > 2:\n",
    "                    self.result[word][book] = f\"{content[i-3]} {content[i-2]} {content[i-1]} {content[i]}\"\n",
    "                else:\n",
    "                    self.result[word][book] = f\"{content[i]} {content[i+1]} {content[i+2]} {content[i+3]}\" \n",
    "                    \n",
    "   \n",
    "    def find_books_title(self, row):\n",
    "        out_dict = defaultdict(dict)        \n",
    "        row = row.lower().split(\", \")\n",
    "        out = self.result[row[0]]\n",
    "        for word in row[1:]:\n",
    "            out = set(out) & set(self.result[word]) \n",
    "        for book in out:\n",
    "            for word in row:\n",
    "                out_dict[book][word] = self.result[word][book]\n",
    "        return out_dict"
   ]
  },
  {
   "cell_type": "code",
   "execution_count": 19,
   "metadata": {},
   "outputs": [],
   "source": [
    "class Window:\n",
    "    def __init__(self, reader):\n",
    "        self._reader = reader\n",
    "        self.root = Tk()\n",
    "        self.entry = Entry(self.root, width=50, font=15)\n",
    "        self.text = Text(self.root, width=50, height=15, font=15)\n",
    "        self.button = Button(self.root, text=\"OK\", width=5, height=19, command=self.button_cl)\n",
    "        self.entry.grid(row=0, column=0)\n",
    "        self.text.grid(row=1, column=0)\n",
    "        self.button.grid(row=0, column=1, rowspan=2)\n",
    "\n",
    "    @metrics\n",
    "    def button_cl(self):\n",
    "        row = self.entry.get()\n",
    "        out = self._reader.find_books_title(row)\n",
    "        out_text = \"\"\n",
    "        for element in out:\n",
    "            out_text += f\"{element} --- \\n{out[element]}\\n\\n\"     \n",
    "        self.text.delete(0.0, 'end')\n",
    "        self.text.insert(0.0, out_text)"
   ]
  },
  {
   "cell_type": "code",
   "execution_count": 20,
   "metadata": {},
   "outputs": [
    {
     "name": "stdout",
     "output_type": "stream",
     "text": [
      "2020-10-14 22:00:19.714706\n"
     ]
    },
    {
     "data": {
      "application/vnd.jupyter.widget-view+json": {
       "model_id": "dc5e463f95534dbdb28ffcc49476358c",
       "version_major": 2,
       "version_minor": 0
      },
      "text/plain": [
       "HBox(children=(FloatProgress(value=1.0, bar_style='info', max=1.0), HTML(value='')))"
      ]
     },
     "metadata": {},
     "output_type": "display_data"
    },
    {
     "name": "stdout",
     "output_type": "stream",
     "text": [
      "\n",
      "2020-10-14 22:00:25.111660\n",
      "0.0\n"
     ]
    }
   ],
   "source": [
    "print(datetime.now())\n",
    "reader = Reader(\"books\")\n",
    "print(datetime.now())\n",
    "Window(reader).root.mainloop()"
   ]
  }
 ],
 "metadata": {
  "kernelspec": {
   "display_name": "Python 3",
   "language": "python",
   "name": "python3"
  },
  "language_info": {
   "codemirror_mode": {
    "name": "ipython",
    "version": 3
   },
   "file_extension": ".py",
   "mimetype": "text/x-python",
   "name": "python",
   "nbconvert_exporter": "python",
   "pygments_lexer": "ipython3",
   "version": "3.8.3"
  }
 },
 "nbformat": 4,
 "nbformat_minor": 4
}
