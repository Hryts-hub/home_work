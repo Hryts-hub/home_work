{
 "cells": [
  {
   "cell_type": "code",
   "execution_count": null,
   "metadata": {},
   "outputs": [],
   "source": [
    "def __init__(self, work_dir):\n",
    "    self.result = defaultdict(set)\n",
    "    arr_book_fact = set(listdir(work_dir))\n",
    "    if path.exists(\"dump_result\") and path.exists(\"arr_book\"):\n",
    "        self.result = load(open(\"dump_result\", \"rb\"))\n",
    "        arr_book_base = set(load(open(\"arr_book\", \"rb\")))\n",
    "        new_book = arr_book_fact - arr_book_base\n",
    "        self.get_content(work_dir, new_book)\n",
    "\n",
    "        new_book = arr_book_base - arr_book_fact\n",
    "        if new_book:\n",
    "            for book in new_book:\n",
    "                for word in self.result: \n",
    "                    self.result[word].discard(book)\n",
    "            abs_path = path.join(getcwd(), \"dump_result\")\n",
    "            remove(abs_path)\n",
    "            abs_path = path.join(getcwd(), \"arr_book\")\n",
    "            remove(abs_path)   \n",
    "    else:\n",
    "        self.get_content(work_dir, arr_book_fact)\n",
    "    dump(self.result, open(\"dump_result\", \"wb\"))\n",
    "    dump(arr_book_fact, open(\"arr_book\", \"wb\"))"
   ]
  }
 ],
 "metadata": {
  "kernelspec": {
   "display_name": "Python 3",
   "language": "python",
   "name": "python3"
  },
  "language_info": {
   "codemirror_mode": {
    "name": "ipython",
    "version": 3
   },
   "file_extension": ".py",
   "mimetype": "text/x-python",
   "name": "python",
   "nbconvert_exporter": "python",
   "pygments_lexer": "ipython3",
   "version": "3.8.3"
  }
 },
 "nbformat": 4,
 "nbformat_minor": 4
}
