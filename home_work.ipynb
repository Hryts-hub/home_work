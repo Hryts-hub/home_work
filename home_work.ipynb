{
 "cells": [
  {
   "cell_type": "code",
   "execution_count": 35,
   "metadata": {},
   "outputs": [],
   "source": [
    "class Node:\n",
    "    def __init__(self, name, mark):\n",
    "        self.name = name\n",
    "        self.mark = mark\n",
    "        self.left = None\n",
    "        self.right = None\n",
    "        self.parent = None\n",
    "        \n",
    "    def __repr__(self):             \n",
    "        return f\"Node: {self.name}\""
   ]
  },
  {
   "cell_type": "code",
   "execution_count": 58,
   "metadata": {},
   "outputs": [],
   "source": [
    "class Manager:\n",
    "    def __init__(self, root):\n",
    "        self.root = root\n",
    "        \n",
    "    def add(self, new_node): \n",
    "        cursor = self.root  \n",
    "        while True:         \n",
    "            if new_node.mark > cursor.mark:\n",
    "                if cursor.right is None:\n",
    "                    cursor.right = new_node     \n",
    "                                                \n",
    "                    new_node.parent = cursor\n",
    "                    break\n",
    "                else:\n",
    "                    cursor = cursor.right       \n",
    "            else: \n",
    "                if cursor.left is None:\n",
    "                    cursor.left = new_node\n",
    "                    new_node.parent = cursor\n",
    "                    break\n",
    "                else:\n",
    "                    cursor = cursor.left\n",
    "\n",
    "    def find(self, mark):                 # поиск по оценке, старт с корня\n",
    "        cursor = self.root\n",
    "        while True:\n",
    "            if mark == cursor.mark:       # условие выхода из цикла с найденным значением mark\n",
    "                return cursor\n",
    "            if mark > cursor.mark:\n",
    "                if cursor.right is None:\n",
    "                    return None          # не нашли запрошенный mark\n",
    "                else:\n",
    "                    cursor = cursor.right\n",
    "            else:\n",
    "                if cursor.left is None:\n",
    "                    return None           # не нашли запрошенный mark\n",
    "                else:\n",
    "                    cursor = cursor.left\n",
    "    \n",
    "    def find_all(self, mark): # заносит оценки в список, возвращает список или пустой список\n",
    "        cursor = self.root\n",
    "        result = []\n",
    "        while True:\n",
    "            if mark == cursor.mark:\n",
    "                result.append(cursor)\n",
    "            if mark > cursor.mark:\n",
    "                if cursor.right is None:\n",
    "                    return result\n",
    "                else:\n",
    "                    cursor = cursor.right\n",
    "            else:\n",
    "                if cursor.left is None:\n",
    "                    return result\n",
    "                else:\n",
    "                    cursor = cursor.left\n",
    "                    \n",
    "    def delete(self, mark):\n",
    "        node = self.find(mark)\n",
    "        \n",
    "        ####################  first case - у нода нет листьев, он сам лист\n",
    "        if node.left is None and node.right is None: \n",
    "            return self.first_case(mark, node)\n",
    "        \n",
    "        ##############  second case - у нода есть 1 лист\n",
    "        if node.left is None and node.right is not None:\n",
    "            return self.second_case_right(mark, node)\n",
    "        if node.left is not None and node.right is None:\n",
    "            return self.second_case_left(mark, node)\n",
    "        \n",
    "        ##### 3d case - у нода есть оба листа              \n",
    "        if mark > node.parent.mark:\n",
    "            return self.third_case_right(mark, node) # удаляемый нод справа\n",
    "        else:\n",
    "            return self.third_case_left(mark, node)  # удаляемый нод слева\n",
    "        \n",
    "    # 1    \n",
    "        \n",
    "    def first_case(self, mark, node): # заменяем родительскую ссылку с листа -- на None\n",
    "        if mark > node.parent.mark:\n",
    "            node.parent.right = None   # right\n",
    "        else:\n",
    "            node.parent.left = None    # left\n",
    "    # 2\n",
    "    \n",
    "    def second_case_right(self, mark, node):  # лист справа     \n",
    "        if mark > node.parent.mark:\n",
    "            node.parent.right = node.right # удаляемый нод справа\n",
    "        else:\n",
    "            node.parent.left = node.right  # удаляемый нод слева        \n",
    "       \n",
    "            \n",
    "    def second_case_left(self, mark, node): # лист слева\n",
    "        if mark > node.parent.mark:\n",
    "            node.parent.left = node.left   # удаляемый нод справа\n",
    "        else:\n",
    "            node.parent.right = node.left  # удаляемый нод слева     \n",
    "    \n",
    "    \n",
    "    \n",
    "    # 3\n",
    "    # правый лист надо поставить на место удлаляемого узла, \n",
    "    # а левый лист подвесить слева от нового узла   \n",
    "          \n",
    "    def third_case_right(self, mark, node):\n",
    "        child_l = node.left\n",
    "        child_r = node.right\n",
    "        node.parent.right = child_r\n",
    "        child_r.right = None\n",
    "        child_r.left = child_l\n",
    "        child_l.parent = child_r\n",
    "        \n",
    "    def third_case_left(self, mark, node):\n",
    "        child_l = node.left\n",
    "        child_r = node.right\n",
    "        node.parent.left = child_r\n",
    "        child_r.right = None\n",
    "        child_r.left = child_l        \n",
    "        child_l.parent = child_r"
   ]
  },
  {
   "cell_type": "code",
   "execution_count": 86,
   "metadata": {},
   "outputs": [],
   "source": [
    "root = Node(\"Egor\", 5)\n",
    "m = Manager(root)\n",
    "\n",
    "m.add(Node(\"Larisa\", 6))\n",
    "m.add(Node(\"Lena\", 4))\n",
    "m.add(Node(\"Pavel\", 7))\n",
    "m.add(Node(\"Igor\", 6.5))  \n",
    "m.add(Node(\"Eva\", 7.5))  \n",
    "m.add(Node(\"Leonid\", 4.5))\n",
    "m.add(Node(\"Lemonad\", 3))"
   ]
  },
  {
   "cell_type": "code",
   "execution_count": 94,
   "metadata": {},
   "outputs": [
    {
     "data": {
      "text/plain": [
       "Node: Pavel"
      ]
     },
     "execution_count": 94,
     "metadata": {},
     "output_type": "execute_result"
    }
   ],
   "source": [
    "root.right"
   ]
  },
  {
   "cell_type": "code",
   "execution_count": 89,
   "metadata": {},
   "outputs": [
    {
     "data": {
      "text/plain": [
       "Node: Larisa"
      ]
     },
     "execution_count": 89,
     "metadata": {},
     "output_type": "execute_result"
    }
   ],
   "source": [
    "m.find(6)"
   ]
  },
  {
   "cell_type": "code",
   "execution_count": 90,
   "metadata": {},
   "outputs": [],
   "source": [
    "m.delete(6)"
   ]
  },
  {
   "cell_type": "code",
   "execution_count": 91,
   "metadata": {},
   "outputs": [],
   "source": [
    "m.find(6)"
   ]
  }
 ],
 "metadata": {
  "kernelspec": {
   "display_name": "Python 3",
   "language": "python",
   "name": "python3"
  },
  "language_info": {
   "codemirror_mode": {
    "name": "ipython",
    "version": 3
   },
   "file_extension": ".py",
   "mimetype": "text/x-python",
   "name": "python",
   "nbconvert_exporter": "python",
   "pygments_lexer": "ipython3",
   "version": "3.8.3"
  }
 },
 "nbformat": 4,
 "nbformat_minor": 4
}
