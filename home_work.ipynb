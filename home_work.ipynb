{
 "cells": [
  {
   "cell_type": "code",
   "execution_count": 1,
   "metadata": {},
   "outputs": [],
   "source": [
    "from tkinter import *\n",
    "from tkinter import scrolledtext"
   ]
  },
  {
   "cell_type": "code",
   "execution_count": 2,
   "metadata": {},
   "outputs": [],
   "source": [
    "from os import listdir"
   ]
  },
  {
   "cell_type": "code",
   "execution_count": 3,
   "metadata": {},
   "outputs": [],
   "source": [
    "from datetime import datetime\n",
    "import time"
   ]
  },
  {
   "cell_type": "code",
   "execution_count": 8,
   "metadata": {},
   "outputs": [],
   "source": [
    "#from functools import lru_cache"
   ]
  },
  {
   "cell_type": "code",
   "execution_count": 6,
   "metadata": {},
   "outputs": [],
   "source": [
    "# запуск\n",
    "\n",
    "MyApp().window.mainloop()"
   ]
  },
  {
   "cell_type": "code",
   "execution_count": 4,
   "metadata": {},
   "outputs": [],
   "source": [
    "class MyApp:\n",
    "    def __init__(self):\n",
    "        self.window = Tk()\n",
    "        self.window.title(\"Поиск книг\")\n",
    "        \n",
    "        self.label = Label(self.window, text=\"Введите ключевые слова (желательно без окончаний) через пробел:\", \n",
    "                           width = 60, height = 2, font = 15)\n",
    "        self.label_request_title = Label(self.window, text=\"\", fg=\"blue\", \n",
    "                           width = 60, height = 2, font = 15)\n",
    "        self.label_request = Label(self.window, text=\"\", \n",
    "                           width = 60, height = 2, font = 15)\n",
    "        self.label_result_title = Label(self.window, text=\"\", fg=\"blue\",\n",
    "                           width = 60, height = 2, font = 15)        \n",
    "        self.text_area = scrolledtext.ScrolledText(self.window, \n",
    "                           width = 60, height = 10, font = 10)\n",
    "        self.entry = Entry(self.window,\n",
    "                           width = 60, font = 15)\n",
    "        self.button = Button(\n",
    "            self.window, text=\"Поиск\", command = self.print_request#font=15, width=10, height=4, bg=\"red\",  \n",
    "        )\n",
    "        \n",
    "        \n",
    "        self.label.grid(\n",
    "            row=0, column = 0)\n",
    "        self.entry.grid(\n",
    "            row=1, column = 0)\n",
    "        self.button.grid(\n",
    "            row=1, column = 1)        \n",
    "        self.label_request_title.grid(\n",
    "            row=2, column = 0)\n",
    "        self.label_request.grid(\n",
    "            row=3, column = 0)        \n",
    "        self.label_result_title.grid(\n",
    "            row=4, column = 0)        \n",
    "        self.text_area.grid(\n",
    "            row=5, column = 0, pady = 20, padx = 20)\n",
    "       \n",
    "        \n",
    "    def print_request(self):\n",
    "        \n",
    "        key_word_string = self.entry.get()\n",
    "        \n",
    "        self.entry.delete(0, 'end')\n",
    "        self.text_area.delete(0.0, 'end')\n",
    "        \n",
    "        self.label_request_title['text'] = f\"Поиск по запросу:\"\n",
    "        self.label_request['text'] = f\"{key_word_string}\"\n",
    "        \n",
    "        key_word_list = key_word_string.split(\" \")\n",
    "            \n",
    "        result_string = Librarian2(key_word_list).file_search()                   # Librarian2\n",
    "        \n",
    "        self.label_result_title['text'] = f\"Результат поиска: {result_string[1]}\"        \n",
    "        self.text_area.insert(INSERT, f\"{result_string[0]}\")"
   ]
  },
  {
   "cell_type": "code",
   "execution_count": 11,
   "metadata": {},
   "outputs": [],
   "source": [
    "class Librarian2:\n",
    "    \n",
    "    def __init__(self, key_word_list):        \n",
    "        self.book_list = listdir(path=\"./books\") \n",
    "        self.key_word_list = key_word_list \n",
    "        \n",
    "        \n",
    "    #@lru_cache(700)    \n",
    "    def _file_read(self, file_name):        \n",
    "        try:\n",
    "            with open(f'./books/{file_name}', \"r\") as file:\n",
    "                self.content = file.readlines()\n",
    "        except UnicodeDecodeError:\n",
    "            with open(f'./books/{file_name}', \"r\", encoding=\"UTF-8\") as file:\n",
    "                self.content = file.readlines()        \n",
    "        return self.content\n",
    "    \n",
    "    \n",
    "    def file_search(self):\n",
    "        self.book_count = 0\n",
    "        self.book_list_find = {}        \n",
    "        for file_name in self.book_list:\n",
    "            self.key_word_list_find = []\n",
    "            self.content = self._file_read(file_name)\n",
    "            flag = True\n",
    "            for word in self.key_word_list:\n",
    "                if flag == True:        \n",
    "                    for line in self.content:\n",
    "                        if line.find(word) != -1:\n",
    "                            self.key_word_list_find.append(word)\n",
    "                            break\n",
    "                    else:\n",
    "                        flag = False\n",
    "            if self.key_word_list == self.key_word_list_find:\n",
    "                author = self.content[0]\n",
    "                book_title = self.content[2][:-1]\n",
    "                book_info = f\" {self.content[1][:-1]} {self.content[3][:-1]} {self.content[4][:-1]}\"\n",
    "                self.book_list_find[book_title] = f\"{book_info} ---   {author}\"\n",
    "                    \n",
    "                \n",
    "        self.book_list_find = [f'{k} {self.book_list_find[k]}' for k in self.book_list_find]    #  \n",
    "        self.book_count = len(self.book_list_find)\n",
    "        self.text4 = ''\n",
    "        for elem in self.book_list_find:\n",
    "            self.text4 += elem + \"\\n\"\n",
    "        \n",
    "        return self.text4, self.book_count"
   ]
  },
  {
   "cell_type": "code",
   "execution_count": 12,
   "metadata": {},
   "outputs": [
    {
     "name": "stdout",
     "output_type": "stream",
     "text": [
      "['что']\n",
      "0:00:00.927375\n",
      "['АГАФЬЯ']\n",
      "0:00:01.180237\n",
      "['пальто', 'человек']\n",
      "0:00:01.102003\n",
      "['Надя', 'кухарке', 'барышне', 'барыне']\n",
      "0:00:01.218902\n",
      "['кухар', 'жить', 'Надя', 'кухарке', 'барышне', 'барыне', 'решительно']\n",
      "0:00:01.274072\n"
     ]
    }
   ],
   "source": [
    "# Librarian2 ---  тесты\n",
    "\n",
    "s1 = [\"что\"]\n",
    "s2 = [\"АГАФЬЯ\"]\n",
    "s3 = [\"пальто\",\"человек\"]\n",
    "s4 = [\"Надя\",\"кухарке\",\"барышне\",\"барыне\"]\n",
    "s5 = [\"кухар\",\"жить\",\"Надя\",\"кухарке\",\"барышне\",\"барыне\", \"решительно\"]\n",
    "\n",
    "print(s1)\n",
    "start_time = datetime.now()\n",
    "Librarian2(s1).file_search()\n",
    "print(datetime.now() - start_time)\n",
    "\n",
    "print(s2)\n",
    "start_time = datetime.now()\n",
    "Librarian2(s2).file_search()\n",
    "print(datetime.now() - start_time)\n",
    "\n",
    "print(s3)\n",
    "start_time = datetime.now()\n",
    "Librarian2(s3).file_search()\n",
    "print(datetime.now() - start_time)\n",
    "\n",
    "print(s4)\n",
    "start_time = datetime.now()\n",
    "Librarian2(s4).file_search()\n",
    "print(datetime.now() - start_time)\n",
    "\n",
    "print(s5)\n",
    "start_time = datetime.now()\n",
    "Librarian2(s5).file_search()\n",
    "print(datetime.now() - start_time)"
   ]
  }
 ],
 "metadata": {
  "kernelspec": {
   "display_name": "Python 3",
   "language": "python",
   "name": "python3"
  },
  "language_info": {
   "codemirror_mode": {
    "name": "ipython",
    "version": 3
   },
   "file_extension": ".py",
   "mimetype": "text/x-python",
   "name": "python",
   "nbconvert_exporter": "python",
   "pygments_lexer": "ipython3",
   "version": "3.8.3"
  }
 },
 "nbformat": 4,
 "nbformat_minor": 4
}
