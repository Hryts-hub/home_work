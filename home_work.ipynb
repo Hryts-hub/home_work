{
 "cells": [
  {
   "cell_type": "code",
   "execution_count": null,
   "metadata": {},
   "outputs": [],
   "source": [
    "# +\n",
    "# Задание: 1 \n",
    "# Найдите номер модели, скорость и размер жесткого диска для всех ПК стоимостью менее 500 дол. \n",
    "# Вывести: model, speed и hd \n",
    "\n",
    "SELECT model, speed, hd \n",
    "FROM PC\n",
    "WHERE price<500"
   ]
  },
  {
   "cell_type": "code",
   "execution_count": null,
   "metadata": {},
   "outputs": [],
   "source": [
    "# +\n",
    "# Задание: 2 \n",
    "# Найдите производителей принтеров. Вывести: maker \n",
    "\n",
    "SELECT DISTINCT maker \n",
    "FROM Product\n",
    "WHERE type='Printer'\n"
   ]
  },
  {
   "cell_type": "code",
   "execution_count": null,
   "metadata": {},
   "outputs": [],
   "source": [
    "# +\n",
    "# Задание: 3 \n",
    "# Найдите номер модели, объем памяти и размеры экранов ПК-блокнотов, цена которых превышает 1000 дол.\n",
    "\n",
    "SELECT model, ram, screen\n",
    "FROM Laptop\n",
    "WHERE price > 1000\n"
   ]
  },
  {
   "cell_type": "code",
   "execution_count": null,
   "metadata": {},
   "outputs": [],
   "source": [
    "# +\n",
    "# Задание: 4 \n",
    "# Найдите все записи таблицы Printer для цветных принтеров. \n",
    "\n",
    "SELECT * FROM Printer\n",
    "WHERE color='y'\n"
   ]
  },
  {
   "cell_type": "code",
   "execution_count": null,
   "metadata": {},
   "outputs": [],
   "source": [
    "# +\n",
    "# Задание: 5 \n",
    "# Найдите номер модели, скорость и размер жесткого диска ПК, \n",
    "# имеющих 12x или 24x CD и цену менее 600 дол. \n",
    "\n",
    "SELECT model, speed, hd\n",
    "FROM PC\n",
    "WHERE (cd='12x' OR cd='24x') AND price < 600\n"
   ]
  },
  {
   "cell_type": "code",
   "execution_count": null,
   "metadata": {},
   "outputs": [],
   "source": [
    "# +\n",
    "# Задание: 6 \n",
    "# Для каждого производителя, выпускающего ПК-блокноты c объёмом жесткого диска не менее 10 Гбайт, \n",
    "# найти скорости таких ПК-блокнотов. \n",
    "# Вывод: производитель, скорость. \n",
    "\n",
    "SELECT DISTINCT Product.maker, Laptop.speed\n",
    "FROM Product\n",
    "INNER JOIN Laptop ON Product.model=Laptop.model\n",
    "WHERE Laptop.hd>=10\n"
   ]
  },
  {
   "cell_type": "code",
   "execution_count": null,
   "metadata": {},
   "outputs": [],
   "source": [
    "# +\n",
    "# Задание: 7 \n",
    "# Найдите номера моделей и цены всех имеющихся в продаже продуктов \n",
    "# (любого типа) производителя B (латинская буква). \n",
    "\n",
    "SELECT A.model, A.price \n",
    "FROM \n",
    "    (SELECT model, price \n",
    "     FROM pc\n",
    "UNION\n",
    "    SELECT model, price\n",
    "    FROM laptop\n",
    "UNION\n",
    "    SELECT model, price\n",
    "    FROM printer) AS A \n",
    "INNER JOIN  \n",
    "Product ON Product.model = A.model\n",
    "WHERE maker = 'B'"
   ]
  },
  {
   "cell_type": "code",
   "execution_count": null,
   "metadata": {},
   "outputs": [],
   "source": [
    "# +\n",
    "# Задание: 8 \n",
    "# Найдите производителя, выпускающего ПК, но не ПК-блокноты. \n",
    "\n",
    "SELECT DISTINCT maker\n",
    "FROM Product \n",
    "WHERE type = 'PC' AND\n",
    "maker NOT IN (SELECT DISTINCT maker\n",
    "FROM Product \n",
    "WHERE type = 'Laptop')"
   ]
  },
  {
   "cell_type": "code",
   "execution_count": null,
   "metadata": {},
   "outputs": [],
   "source": [
    "# +\n",
    "# Задание: 9 \n",
    "# Найдите производителей ПК с процессором не менее 450 Мгц. Вывести: Maker\n",
    "\n",
    "SELECT DISTINCT maker AS Maker\n",
    "FROM Product\n",
    "INNER JOIN PC \n",
    "ON Product.model = PC.model\n",
    "WHERE PC.speed >= 450"
   ]
  },
  {
   "cell_type": "code",
   "execution_count": null,
   "metadata": {},
   "outputs": [],
   "source": [
    "# +\n",
    "# Задание: 10 \n",
    "# Найдите модели принтеров, имеющих самую высокую цену. Вывести: model, price\n",
    "\n",
    "SELECT model, price  \n",
    "FROM Printer  \n",
    "WHERE \n",
    "price = (SELECT MAX(price) FROM Printer)\n"
   ]
  },
  {
   "cell_type": "code",
   "execution_count": null,
   "metadata": {},
   "outputs": [],
   "source": [
    "# +\n",
    "# Задание: 11 \n",
    "# Найдите среднюю скорость ПК. \n",
    "\n",
    "SELECT AVG(speed)\n",
    "FROM PC\n"
   ]
  },
  {
   "cell_type": "code",
   "execution_count": null,
   "metadata": {},
   "outputs": [],
   "source": [
    "# +\n",
    "# Задание: 12 \n",
    "# Найдите среднюю скорость ПК-блокнотов, цена которых превышает 1000 дол.\n",
    "\n",
    "SELECT AVG(speed)\n",
    "FROM Laptop\n",
    "WHERE price > 1000"
   ]
  },
  {
   "cell_type": "code",
   "execution_count": null,
   "metadata": {},
   "outputs": [],
   "source": [
    "# +\n",
    "# Задание: 13 \n",
    "# Найдите среднюю скорость ПК, выпущенных производителем A.\n",
    "\n",
    "SELECT AVG(speed)\n",
    "FROM PC\n",
    "INNER JOIN Product\n",
    "ON PC.model = Product.model\n",
    "WHERE Product.maker = 'A'\n"
   ]
  },
  {
   "cell_type": "code",
   "execution_count": null,
   "metadata": {},
   "outputs": [],
   "source": [
    "# +\n",
    "# Задание: 14 \n",
    "# Найдите класс, имя и страну для кораблей из таблицы Ships, имеющих не менее 10 орудий. \n",
    "\n",
    "SELECT Ships.class, Ships.name, Classes.country\n",
    "FROM Ships\n",
    "INNER JOIN Classes \n",
    "ON Ships.class = Classes.class\n",
    "WHERE Classes.numGuns >= 10\n"
   ]
  },
  {
   "cell_type": "code",
   "execution_count": null,
   "metadata": {},
   "outputs": [],
   "source": [
    "# +\n",
    "# Задание: 15 \n",
    "# Найдите размеры жестких дисков, совпадающих у двух и более PC. Вывести: HD\n",
    "\n",
    "SELECT hd AS HD\n",
    "FROM PC\n",
    "GROUP BY hd\n",
    "HAVING COUNT(hd) >= 2\n"
   ]
  },
  {
   "cell_type": "code",
   "execution_count": null,
   "metadata": {},
   "outputs": [],
   "source": [
    "# +\n",
    "# Задание: 16 \n",
    "# Найдите пары моделей PC, имеющих одинаковые скорость и RAM. \n",
    "# В результате каждая пара указывается только один раз, т.е. (i,j), но не (j,i), \n",
    "# Порядок вывода: модель с большим номером, модель с меньшим номером, скорость и RAM. \n",
    "\n",
    "SELECT DISTINCT A.model AS model, B.model AS model, A.speed, A.ram\n",
    "FROM PC AS A, PC B\n",
    "WHERE A.speed = B.speed\n",
    "AND A.ram = B.ram\n",
    "AND A.model > B.model"
   ]
  },
  {
   "cell_type": "code",
   "execution_count": null,
   "metadata": {},
   "outputs": [],
   "source": [
    "# +\n",
    "# SЗадание: 17 \n",
    "# Найдите модели ПК-блокнотов, скорость которых меньше скорости каждого из ПК.\n",
    "# Вывести: type, model, speed \n",
    "\n",
    "SELECT DISTINCT Product.type, Laptop.model, Laptop.speed\n",
    "FROM Product, Laptop\n",
    "WHERE Product.type = 'Laptop' \n",
    "AND\n",
    "Laptop.speed < ALL (SELECT speed FROM PC)"
   ]
  },
  {
   "cell_type": "code",
   "execution_count": null,
   "metadata": {},
   "outputs": [],
   "source": [
    "# +\n",
    "# Задание: 18 \n",
    "# Найдите производителей самых дешевых цветных принтеров. Вывести: maker, price\n",
    "\n",
    "SELECT DISTINCT Product.maker AS Maker, Printer.price\n",
    "FROM Product\n",
    "INNER JOIN Printer ON Product.model = Printer.model\n",
    "WHERE Printer.color = 'y' AND\n",
    "Printer.price = (SELECT MIN(price) FROM Printer WHERE Printer.color = 'y')"
   ]
  },
  {
   "cell_type": "code",
   "execution_count": null,
   "metadata": {},
   "outputs": [],
   "source": [
    "# +\n",
    "# Задание: 19 \n",
    "# Для каждого производителя, имеющего модели в таблице Laptop, \n",
    "# найдите средний размер экрана выпускаемых им ПК-блокнотов.\n",
    "# Вывести: maker, средний размер экрана. \n",
    "\n",
    "SELECT Product.maker AS Maker, AVG(Laptop.screen) AS AVGscreen\n",
    "FROM Product\n",
    "INNER JOIN Laptop ON Product.model=Laptop.model\n",
    "GROUP BY Product.maker\n"
   ]
  },
  {
   "cell_type": "code",
   "execution_count": null,
   "metadata": {},
   "outputs": [],
   "source": [
    "# + \n",
    "# Задание: 20 \n",
    "# Найдите производителей, выпускающих по меньшей мере три различных модели ПК. \n",
    "# Вывести: Maker, число моделей ПК. \n",
    "\n",
    "SELECT maker, COUNT(model) AS COUNT_model\n",
    "FROM Product\n",
    "WHERE type = 'PC' \n",
    "GROUP BY maker\n",
    "HAVING COUNT(model) > 2"
   ]
  }
 ],
 "metadata": {
  "kernelspec": {
   "display_name": "Python 3",
   "language": "python",
   "name": "python3"
  },
  "language_info": {
   "codemirror_mode": {
    "name": "ipython",
    "version": 3
   },
   "file_extension": ".py",
   "mimetype": "text/x-python",
   "name": "python",
   "nbconvert_exporter": "python",
   "pygments_lexer": "ipython3",
   "version": "3.8.3"
  }
 },
 "nbformat": 4,
 "nbformat_minor": 4
}
